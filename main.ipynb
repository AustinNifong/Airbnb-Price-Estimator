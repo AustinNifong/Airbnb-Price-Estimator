{
 "cells": [
  {
   "cell_type": "code",
   "execution_count": 23,
   "metadata": {},
   "outputs": [],
   "source": [
    "import sys, os\n",
    "sys.path.insert(0, os.path.dirname(os.path.abspath('..')))\n",
    "import import_ipynb\n",
    "from utils import data_set, pipelines, feature_engineering\n",
    "import numpy as np\n",
    "import pandas as pd\n",
    "from sklearn.model_selection import train_test_split, GridSearchCV\n",
    "from sklearn.impute import SimpleImputer, KNNImputer\n",
    "\n",
    "\n",
    "# models\n",
    "from sklearn.linear_model import LinearRegression\n",
    "from sklearn.ensemble import RandomForestRegressor\n",
    "from sklearn.neighbors import KNeighborsRegressor\n",
    "from xgboost import XGBRegressor\n",
    "from sklearn.neural_network import MLPRegressor\n",
    "\n",
    "random_state = 1"
   ]
  },
  {
   "cell_type": "code",
   "execution_count": 2,
   "metadata": {},
   "outputs": [],
   "source": [
    "original_data = data_set.get_dataset('listings')\n",
    "listings_data = data_set.get_dataset('listings')"
   ]
  },
  {
   "cell_type": "code",
   "execution_count": 3,
   "metadata": {},
   "outputs": [],
   "source": [
    "#calendar_data = data_set.get_dataset('calendar')\n",
    "#neighbourhoods_data = data_set.get_dataset('neighbourhoods')\n",
    "#reviews_data = data_set.get_dataset('reviews')"
   ]
  },
  {
   "cell_type": "code",
   "execution_count": 4,
   "metadata": {},
   "outputs": [],
   "source": [
    "data_set.drop_useless_columns_listings(listings_data)\n",
    "data_set.convert_column_types(listings_data)"
   ]
  },
  {
   "cell_type": "code",
   "execution_count": 5,
   "metadata": {},
   "outputs": [],
   "source": [
    "feature_engineering.make_total_characters_feature(listings_data)\n",
    "feature_engineering.make_total_amenities_feature(listings_data)\n",
    "feature_engineering.make_specific_amenity_features(listings_data)\n",
    "listings_data.drop('amenities', axis = 1, inplace = True)"
   ]
  },
  {
   "cell_type": "code",
   "execution_count": 6,
   "metadata": {},
   "outputs": [],
   "source": [
    "prices = listings_data.pop('price')"
   ]
  },
  {
   "cell_type": "code",
   "execution_count": 7,
   "metadata": {},
   "outputs": [],
   "source": [
    "x_train, x_test, y_train, y_test = train_test_split(listings_data, prices, test_size = .25, random_state = random_state)"
   ]
  },
  {
   "cell_type": "code",
   "execution_count": 8,
   "metadata": {},
   "outputs": [
    {
     "data": {
      "text/html": [
       "<div>\n",
       "<style scoped>\n",
       "    .dataframe tbody tr th:only-of-type {\n",
       "        vertical-align: middle;\n",
       "    }\n",
       "\n",
       "    .dataframe tbody tr th {\n",
       "        vertical-align: top;\n",
       "    }\n",
       "\n",
       "    .dataframe thead th {\n",
       "        text-align: right;\n",
       "    }\n",
       "</style>\n",
       "<table border=\"1\" class=\"dataframe\">\n",
       "  <thead>\n",
       "    <tr style=\"text-align: right;\">\n",
       "      <th></th>\n",
       "      <th>host_is_superhost</th>\n",
       "      <th>latitude</th>\n",
       "      <th>longitude</th>\n",
       "      <th>property_type</th>\n",
       "      <th>room_type</th>\n",
       "      <th>accommodates</th>\n",
       "      <th>bathrooms</th>\n",
       "      <th>bedrooms</th>\n",
       "      <th>beds</th>\n",
       "      <th>number_of_reviews</th>\n",
       "      <th>review_scores_rating</th>\n",
       "      <th>total_amenities</th>\n",
       "      <th>has_pool</th>\n",
       "      <th>has_wifi</th>\n",
       "      <th>has_kitchen</th>\n",
       "    </tr>\n",
       "  </thead>\n",
       "  <tbody>\n",
       "    <tr>\n",
       "      <th>18040</th>\n",
       "      <td>False</td>\n",
       "      <td>40.76171</td>\n",
       "      <td>-73.99968</td>\n",
       "      <td>Entire serviced apartment</td>\n",
       "      <td>Entire home/apt</td>\n",
       "      <td>3</td>\n",
       "      <td>1.0</td>\n",
       "      <td>1.0</td>\n",
       "      <td>2.0</td>\n",
       "      <td>0</td>\n",
       "      <td>NaN</td>\n",
       "      <td>37</td>\n",
       "      <td>True</td>\n",
       "      <td>True</td>\n",
       "      <td>True</td>\n",
       "    </tr>\n",
       "    <tr>\n",
       "      <th>5443</th>\n",
       "      <td>False</td>\n",
       "      <td>40.81051</td>\n",
       "      <td>-73.94440</td>\n",
       "      <td>Private room in rental unit</td>\n",
       "      <td>Private room</td>\n",
       "      <td>1</td>\n",
       "      <td>1.0</td>\n",
       "      <td>1.0</td>\n",
       "      <td>1.0</td>\n",
       "      <td>0</td>\n",
       "      <td>NaN</td>\n",
       "      <td>10</td>\n",
       "      <td>False</td>\n",
       "      <td>True</td>\n",
       "      <td>True</td>\n",
       "    </tr>\n",
       "    <tr>\n",
       "      <th>31071</th>\n",
       "      <td>False</td>\n",
       "      <td>40.59924</td>\n",
       "      <td>-73.96201</td>\n",
       "      <td>Entire condominium (condo)</td>\n",
       "      <td>Entire home/apt</td>\n",
       "      <td>2</td>\n",
       "      <td>1.0</td>\n",
       "      <td>1.0</td>\n",
       "      <td>1.0</td>\n",
       "      <td>0</td>\n",
       "      <td>NaN</td>\n",
       "      <td>21</td>\n",
       "      <td>False</td>\n",
       "      <td>True</td>\n",
       "      <td>True</td>\n",
       "    </tr>\n",
       "    <tr>\n",
       "      <th>20721</th>\n",
       "      <td>False</td>\n",
       "      <td>40.69424</td>\n",
       "      <td>-73.97312</td>\n",
       "      <td>Entire rental unit</td>\n",
       "      <td>Entire home/apt</td>\n",
       "      <td>5</td>\n",
       "      <td>1.0</td>\n",
       "      <td>2.0</td>\n",
       "      <td>3.0</td>\n",
       "      <td>72</td>\n",
       "      <td>4.7</td>\n",
       "      <td>27</td>\n",
       "      <td>False</td>\n",
       "      <td>True</td>\n",
       "      <td>True</td>\n",
       "    </tr>\n",
       "    <tr>\n",
       "      <th>35641</th>\n",
       "      <td>False</td>\n",
       "      <td>40.58424</td>\n",
       "      <td>-73.93516</td>\n",
       "      <td>Entire residential home</td>\n",
       "      <td>Entire home/apt</td>\n",
       "      <td>6</td>\n",
       "      <td>2.5</td>\n",
       "      <td>3.0</td>\n",
       "      <td>3.0</td>\n",
       "      <td>5</td>\n",
       "      <td>5.0</td>\n",
       "      <td>37</td>\n",
       "      <td>False</td>\n",
       "      <td>True</td>\n",
       "      <td>True</td>\n",
       "    </tr>\n",
       "  </tbody>\n",
       "</table>\n",
       "</div>"
      ],
      "text/plain": [
       "       host_is_superhost  latitude  longitude                property_type  \\\n",
       "18040              False  40.76171  -73.99968    Entire serviced apartment   \n",
       "5443               False  40.81051  -73.94440  Private room in rental unit   \n",
       "31071              False  40.59924  -73.96201   Entire condominium (condo)   \n",
       "20721              False  40.69424  -73.97312           Entire rental unit   \n",
       "35641              False  40.58424  -73.93516      Entire residential home   \n",
       "\n",
       "             room_type  accommodates  bathrooms  bedrooms  beds  \\\n",
       "18040  Entire home/apt             3        1.0       1.0   2.0   \n",
       "5443      Private room             1        1.0       1.0   1.0   \n",
       "31071  Entire home/apt             2        1.0       1.0   1.0   \n",
       "20721  Entire home/apt             5        1.0       2.0   3.0   \n",
       "35641  Entire home/apt             6        2.5       3.0   3.0   \n",
       "\n",
       "       number_of_reviews  review_scores_rating  total_amenities  has_pool  \\\n",
       "18040                  0                   NaN               37      True   \n",
       "5443                   0                   NaN               10     False   \n",
       "31071                  0                   NaN               21     False   \n",
       "20721                 72                   4.7               27     False   \n",
       "35641                  5                   5.0               37     False   \n",
       "\n",
       "       has_wifi  has_kitchen  \n",
       "18040      True         True  \n",
       "5443       True         True  \n",
       "31071      True         True  \n",
       "20721      True         True  \n",
       "35641      True         True  "
      ]
     },
     "execution_count": 8,
     "metadata": {},
     "output_type": "execute_result"
    }
   ],
   "source": [
    "x_train.head()"
   ]
  },
  {
   "cell_type": "markdown",
   "metadata": {},
   "source": [
    "preprocessor = pipelines.make_regressor_pipeline('dummy')\n",
    "out = pd.DataFrame(preprocessor.fit_transform(x_train))\n",
    "out.head()"
   ]
  },
  {
   "cell_type": "markdown",
   "metadata": {},
   "source": [
    "Types of models: \n",
    "-  Linear Regression\n",
    "-  Random Forest\n",
    "-  SVR\n",
    "-  KNN\n",
    "-  XGBRegressor\n",
    " "
   ]
  },
  {
   "cell_type": "markdown",
   "metadata": {},
   "source": [
    "Create a dictionary of pipelines to be used for cross validation."
   ]
  },
  {
   "cell_type": "code",
   "execution_count": 37,
   "metadata": {},
   "outputs": [],
   "source": [
    "pipelines_dict = dict()\n",
    "\n",
    "pipelines_dict['mlp']               = pipelines.make_regressor_pipeline(MLPRegressor())\n",
    "pipelines_dict['linear_regression'] = pipelines.make_regressor_pipeline(LinearRegression())\n",
    "pipelines_dict['random_forest']     = pipelines.make_regressor_pipeline(RandomForestRegressor())\n",
    "pipelines_dict['knn']               = pipelines.make_regressor_pipeline(KNeighborsRegressor())\n",
    "pipelines_dict['xgb_regressor']     = pipelines.make_regressor_pipeline(XGBRegressor())\n"
   ]
  },
  {
   "cell_type": "markdown",
   "metadata": {},
   "source": [
    "Create dictionary of parameter grids for each type of model."
   ]
  },
  {
   "cell_type": "code",
   "execution_count": 51,
   "metadata": {},
   "outputs": [],
   "source": [
    "params_dict = dict()\n",
    "\n",
    "params_dict['linear_regression'] = [{}]\n",
    "\n",
    "params_dict['random_forest'] = [{\n",
    "    'regressor__criterion' : ['mse'], \n",
    "    'regressor__max_features' : ['auto', 'sqrt', 'log2'], \n",
    "    'regressor__random_state' : [random_state] }]\n",
    "\n",
    "params_dict['mlp'] = [{\n",
    "    'regressor__hidden_layer_sizes' : [100],\n",
    "    'regressor__solver' : ['adam'],\n",
    "    'regressor__activation' : ['identity', 'logistic', 'tanh', 'relu'],\n",
    "    'regressor__random_state' : [random_state],\n",
    "    'regressor__max_iter' : [600],\n",
    "    'regressor__tol' : [.1]\n",
    "}]\n",
    "\n",
    "params_dict['knn'] = [{\n",
    "    'regressor__n_neighbors':[5, 10, 15], \n",
    "    'regressor__weights': ['uniform', 'distance']}]\n",
    "\n",
    "params_dict['xgb_regressor'] = [{\n",
    "    'regressor__random_state':[random_state], \n",
    "    'regressor__n_estimators':[100, 150],\n",
    "    'regressor__max_depth':[2,3,5]}]\n"
   ]
  },
  {
   "cell_type": "markdown",
   "metadata": {},
   "source": [
    "Create the grid search object for each model."
   ]
  },
  {
   "cell_type": "code",
   "execution_count": 52,
   "metadata": {},
   "outputs": [],
   "source": [
    "grid_searches = dict()\n",
    "for model in pipelines_dict:\n",
    "    grid_searches[model] = GridSearchCV(\n",
    "        estimator = pipelines_dict[model],\n",
    "        param_grid = params_dict[model],\n",
    "        scoring = 'neg_mean_absolute_error',\n",
    "        cv = 4\n",
    "    )"
   ]
  },
  {
   "cell_type": "markdown",
   "metadata": {},
   "source": [
    "Fit and run the grid searches using the training data."
   ]
  },
  {
   "cell_type": "code",
   "execution_count": 53,
   "metadata": {},
   "outputs": [
    {
     "name": "stdout",
     "output_type": "stream",
     "text": [
      "Working on mlp... Done\n",
      "Working on linear_regression... Done\n",
      "Working on random_forest... Done\n",
      "Working on knn... Done\n",
      "Working on xgb_regressor... Done\n"
     ]
    }
   ],
   "source": [
    "results = dict()\n",
    "for model in grid_searches:\n",
    "    print(\"Working on \" + model, end = \"... \")\n",
    "    results[model] = grid_searches[model].fit(x_train, y_train)\n",
    "    print(\"Done\")\n",
    "    "
   ]
  },
  {
   "cell_type": "markdown",
   "metadata": {},
   "source": [
    "View the final results."
   ]
  },
  {
   "cell_type": "code",
   "execution_count": 95,
   "metadata": {},
   "outputs": [
    {
     "data": {
      "text/html": [
       "<div>\n",
       "<style scoped>\n",
       "    .dataframe tbody tr th:only-of-type {\n",
       "        vertical-align: middle;\n",
       "    }\n",
       "\n",
       "    .dataframe tbody tr th {\n",
       "        vertical-align: top;\n",
       "    }\n",
       "\n",
       "    .dataframe thead th {\n",
       "        text-align: right;\n",
       "    }\n",
       "</style>\n",
       "<table border=\"1\" class=\"dataframe\">\n",
       "  <thead>\n",
       "    <tr style=\"text-align: right;\">\n",
       "      <th></th>\n",
       "      <th>model</th>\n",
       "      <th>mean_test_score</th>\n",
       "      <th>std_test_score</th>\n",
       "      <th>mean_fit_time</th>\n",
       "      <th>params</th>\n",
       "    </tr>\n",
       "  </thead>\n",
       "  <tbody>\n",
       "    <tr>\n",
       "      <th>1</th>\n",
       "      <td>random_forest</td>\n",
       "      <td>-68.530616</td>\n",
       "      <td>2.633288</td>\n",
       "      <td>3.474727</td>\n",
       "      <td>{'regressor__criterion': 'mse', 'regressor__ma...</td>\n",
       "    </tr>\n",
       "    <tr>\n",
       "      <th>2</th>\n",
       "      <td>random_forest</td>\n",
       "      <td>-68.530616</td>\n",
       "      <td>2.633288</td>\n",
       "      <td>3.439618</td>\n",
       "      <td>{'regressor__criterion': 'mse', 'regressor__ma...</td>\n",
       "    </tr>\n",
       "    <tr>\n",
       "      <th>0</th>\n",
       "      <td>random_forest</td>\n",
       "      <td>-72.021097</td>\n",
       "      <td>2.626137</td>\n",
       "      <td>11.581788</td>\n",
       "      <td>{'regressor__criterion': 'mse', 'regressor__ma...</td>\n",
       "    </tr>\n",
       "    <tr>\n",
       "      <th>2</th>\n",
       "      <td>xgb_regressor</td>\n",
       "      <td>-73.242580</td>\n",
       "      <td>2.470464</td>\n",
       "      <td>0.867647</td>\n",
       "      <td>{'regressor__max_depth': 3, 'regressor__n_esti...</td>\n",
       "    </tr>\n",
       "    <tr>\n",
       "      <th>1</th>\n",
       "      <td>xgb_regressor</td>\n",
       "      <td>-73.481531</td>\n",
       "      <td>2.175416</td>\n",
       "      <td>0.898843</td>\n",
       "      <td>{'regressor__max_depth': 2, 'regressor__n_esti...</td>\n",
       "    </tr>\n",
       "    <tr>\n",
       "      <th>0</th>\n",
       "      <td>xgb_regressor</td>\n",
       "      <td>-73.486789</td>\n",
       "      <td>1.678840</td>\n",
       "      <td>0.654504</td>\n",
       "      <td>{'regressor__max_depth': 2, 'regressor__n_esti...</td>\n",
       "    </tr>\n",
       "    <tr>\n",
       "      <th>3</th>\n",
       "      <td>xgb_regressor</td>\n",
       "      <td>-74.083422</td>\n",
       "      <td>1.906450</td>\n",
       "      <td>1.251145</td>\n",
       "      <td>{'regressor__max_depth': 3, 'regressor__n_esti...</td>\n",
       "    </tr>\n",
       "    <tr>\n",
       "      <th>4</th>\n",
       "      <td>xgb_regressor</td>\n",
       "      <td>-74.392244</td>\n",
       "      <td>1.285609</td>\n",
       "      <td>1.431904</td>\n",
       "      <td>{'regressor__max_depth': 5, 'regressor__n_esti...</td>\n",
       "    </tr>\n",
       "    <tr>\n",
       "      <th>5</th>\n",
       "      <td>xgb_regressor</td>\n",
       "      <td>-75.425794</td>\n",
       "      <td>1.218554</td>\n",
       "      <td>2.039066</td>\n",
       "      <td>{'regressor__max_depth': 5, 'regressor__n_esti...</td>\n",
       "    </tr>\n",
       "    <tr>\n",
       "      <th>5</th>\n",
       "      <td>knn</td>\n",
       "      <td>-76.044501</td>\n",
       "      <td>2.486293</td>\n",
       "      <td>0.077938</td>\n",
       "      <td>{'regressor__n_neighbors': 15, 'regressor__wei...</td>\n",
       "    </tr>\n",
       "    <tr>\n",
       "      <th>3</th>\n",
       "      <td>knn</td>\n",
       "      <td>-76.877959</td>\n",
       "      <td>2.730649</td>\n",
       "      <td>0.076705</td>\n",
       "      <td>{'regressor__n_neighbors': 10, 'regressor__wei...</td>\n",
       "    </tr>\n",
       "    <tr>\n",
       "      <th>1</th>\n",
       "      <td>mlp</td>\n",
       "      <td>-77.112313</td>\n",
       "      <td>2.536098</td>\n",
       "      <td>38.691588</td>\n",
       "      <td>{'regressor__activation': 'logistic', 'regress...</td>\n",
       "    </tr>\n",
       "    <tr>\n",
       "      <th>4</th>\n",
       "      <td>knn</td>\n",
       "      <td>-77.567513</td>\n",
       "      <td>2.252546</td>\n",
       "      <td>0.076333</td>\n",
       "      <td>{'regressor__n_neighbors': 15, 'regressor__wei...</td>\n",
       "    </tr>\n",
       "    <tr>\n",
       "      <th>2</th>\n",
       "      <td>knn</td>\n",
       "      <td>-78.304361</td>\n",
       "      <td>2.472903</td>\n",
       "      <td>0.078096</td>\n",
       "      <td>{'regressor__n_neighbors': 10, 'regressor__wei...</td>\n",
       "    </tr>\n",
       "    <tr>\n",
       "      <th>1</th>\n",
       "      <td>knn</td>\n",
       "      <td>-79.124603</td>\n",
       "      <td>3.294540</td>\n",
       "      <td>0.078649</td>\n",
       "      <td>{'regressor__n_neighbors': 5, 'regressor__weig...</td>\n",
       "    </tr>\n",
       "    <tr>\n",
       "      <th>3</th>\n",
       "      <td>mlp</td>\n",
       "      <td>-79.162273</td>\n",
       "      <td>3.558694</td>\n",
       "      <td>31.247965</td>\n",
       "      <td>{'regressor__activation': 'relu', 'regressor__...</td>\n",
       "    </tr>\n",
       "    <tr>\n",
       "      <th>2</th>\n",
       "      <td>mlp</td>\n",
       "      <td>-79.524123</td>\n",
       "      <td>4.533592</td>\n",
       "      <td>37.198353</td>\n",
       "      <td>{'regressor__activation': 'tanh', 'regressor__...</td>\n",
       "    </tr>\n",
       "    <tr>\n",
       "      <th>0</th>\n",
       "      <td>knn</td>\n",
       "      <td>-80.023250</td>\n",
       "      <td>3.340219</td>\n",
       "      <td>0.075626</td>\n",
       "      <td>{'regressor__n_neighbors': 5, 'regressor__weig...</td>\n",
       "    </tr>\n",
       "    <tr>\n",
       "      <th>0</th>\n",
       "      <td>linear_regression</td>\n",
       "      <td>-82.132183</td>\n",
       "      <td>1.645510</td>\n",
       "      <td>0.108513</td>\n",
       "      <td>{}</td>\n",
       "    </tr>\n",
       "    <tr>\n",
       "      <th>0</th>\n",
       "      <td>mlp</td>\n",
       "      <td>-83.837468</td>\n",
       "      <td>1.797171</td>\n",
       "      <td>5.355533</td>\n",
       "      <td>{'regressor__activation': 'identity', 'regress...</td>\n",
       "    </tr>\n",
       "  </tbody>\n",
       "</table>\n",
       "</div>"
      ],
      "text/plain": [
       "               model  mean_test_score  std_test_score  mean_fit_time  \\\n",
       "1      random_forest       -68.530616        2.633288       3.474727   \n",
       "2      random_forest       -68.530616        2.633288       3.439618   \n",
       "0      random_forest       -72.021097        2.626137      11.581788   \n",
       "2      xgb_regressor       -73.242580        2.470464       0.867647   \n",
       "1      xgb_regressor       -73.481531        2.175416       0.898843   \n",
       "0      xgb_regressor       -73.486789        1.678840       0.654504   \n",
       "3      xgb_regressor       -74.083422        1.906450       1.251145   \n",
       "4      xgb_regressor       -74.392244        1.285609       1.431904   \n",
       "5      xgb_regressor       -75.425794        1.218554       2.039066   \n",
       "5                knn       -76.044501        2.486293       0.077938   \n",
       "3                knn       -76.877959        2.730649       0.076705   \n",
       "1                mlp       -77.112313        2.536098      38.691588   \n",
       "4                knn       -77.567513        2.252546       0.076333   \n",
       "2                knn       -78.304361        2.472903       0.078096   \n",
       "1                knn       -79.124603        3.294540       0.078649   \n",
       "3                mlp       -79.162273        3.558694      31.247965   \n",
       "2                mlp       -79.524123        4.533592      37.198353   \n",
       "0                knn       -80.023250        3.340219       0.075626   \n",
       "0  linear_regression       -82.132183        1.645510       0.108513   \n",
       "0                mlp       -83.837468        1.797171       5.355533   \n",
       "\n",
       "                                              params  \n",
       "1  {'regressor__criterion': 'mse', 'regressor__ma...  \n",
       "2  {'regressor__criterion': 'mse', 'regressor__ma...  \n",
       "0  {'regressor__criterion': 'mse', 'regressor__ma...  \n",
       "2  {'regressor__max_depth': 3, 'regressor__n_esti...  \n",
       "1  {'regressor__max_depth': 2, 'regressor__n_esti...  \n",
       "0  {'regressor__max_depth': 2, 'regressor__n_esti...  \n",
       "3  {'regressor__max_depth': 3, 'regressor__n_esti...  \n",
       "4  {'regressor__max_depth': 5, 'regressor__n_esti...  \n",
       "5  {'regressor__max_depth': 5, 'regressor__n_esti...  \n",
       "5  {'regressor__n_neighbors': 15, 'regressor__wei...  \n",
       "3  {'regressor__n_neighbors': 10, 'regressor__wei...  \n",
       "1  {'regressor__activation': 'logistic', 'regress...  \n",
       "4  {'regressor__n_neighbors': 15, 'regressor__wei...  \n",
       "2  {'regressor__n_neighbors': 10, 'regressor__wei...  \n",
       "1  {'regressor__n_neighbors': 5, 'regressor__weig...  \n",
       "3  {'regressor__activation': 'relu', 'regressor__...  \n",
       "2  {'regressor__activation': 'tanh', 'regressor__...  \n",
       "0  {'regressor__n_neighbors': 5, 'regressor__weig...  \n",
       "0                                                 {}  \n",
       "0  {'regressor__activation': 'identity', 'regress...  "
      ]
     },
     "execution_count": 95,
     "metadata": {},
     "output_type": "execute_result"
    }
   ],
   "source": [
    "columns = ['mean_test_score', 'std_test_score', 'mean_fit_time', 'params', 'mean_score_time', 'split0_test_score', 'split1_test_score', 'split2_test_score', 'split3_test_score']\n",
    "all_results = pd.DataFrame()\n",
    "for model in results:    \n",
    "    model_results = pd.DataFrame(results[model].cv_results_)[columns]\n",
    "    model_name = pd.DataFrame([model] * model_results.shape[0], columns = [\"model\"]) \n",
    "    model_results = model_name.join(model_results)\n",
    "    all_results = pd.concat([all_results, model_results])\n",
    "    \n",
    "test = ['model', 'mean_test_score', 'std_test_score', 'mean_fit_time', 'params']\n",
    "all_results[test].sort_values(by = ['mean_test_score', 'std_test_score'], ascending = [False, True])"
   ]
  },
  {
   "cell_type": "markdown",
   "metadata": {},
   "source": [
    "Save results as a csv file."
   ]
  },
  {
   "cell_type": "code",
   "execution_count": 71,
   "metadata": {},
   "outputs": [],
   "source": [
    "fp = os.getcwd() + \"/results/all_results.csv\"\n",
    "all_results.to_csv(fp)"
   ]
  },
  {
   "cell_type": "code",
   "execution_count": 104,
   "metadata": {},
   "outputs": [
    {
     "data": {
      "text/plain": [
       "62.38455616960464"
      ]
     },
     "execution_count": 104,
     "metadata": {},
     "output_type": "execute_result"
    }
   ],
   "source": [
    "best_estimator = grid_searches['random_forest'].best_estimator_\n",
    "np.mean(abs(best_estimator.predict(x_test) - y_test))"
   ]
  },
  {
   "cell_type": "code",
   "execution_count": 107,
   "metadata": {},
   "outputs": [
    {
     "data": {
      "text/plain": [
       "(9181,)"
      ]
     },
     "execution_count": 107,
     "metadata": {},
     "output_type": "execute_result"
    }
   ],
   "source": [
    "y_test.shape"
   ]
  },
  {
   "cell_type": "code",
   "execution_count": null,
   "metadata": {},
   "outputs": [],
   "source": []
  }
 ],
 "metadata": {
  "kernelspec": {
   "display_name": "Python 3",
   "language": "python",
   "name": "python3"
  },
  "language_info": {
   "codemirror_mode": {
    "name": "ipython",
    "version": 3
   },
   "file_extension": ".py",
   "mimetype": "text/x-python",
   "name": "python",
   "nbconvert_exporter": "python",
   "pygments_lexer": "ipython3",
   "version": "3.8.7"
  }
 },
 "nbformat": 4,
 "nbformat_minor": 4
}
