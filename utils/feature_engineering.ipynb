{
 "cells": [
  {
   "cell_type": "code",
   "execution_count": 1,
   "metadata": {},
   "outputs": [],
   "source": [
    "import numpy as np\n",
    "import pandas as pd"
   ]
  },
  {
   "cell_type": "code",
   "execution_count": 2,
   "metadata": {},
   "outputs": [],
   "source": [
    "'''\n",
    "creates a new feature that is the total character length of the \n",
    "\"description\", \"neighborhood_overview\", and \"host_about\" columns\n",
    "'''\n",
    "def make_total_characters_feature(listings: pd.core.frame.DataFrame) -> None:\n",
    "    descriptive_cols = ['description', 'neighborhood_overview', 'host_about']\n",
    "    listings.loc[:, descriptive_cols].fillna(value = \"\", inplace = True)\n",
    "    results = np.zeros(listings.shape[0])\n",
    "    \n",
    "    for col in descriptive_cols:\n",
    "        results += listings[col].str.len()\n",
    "        listings.drop(col, axis = 1, inplace = True)\n",
    "    \n",
    "    #listings.loc[:, 'total_description_chars'] = pd.Series(results)\n",
    "    "
   ]
  },
  {
   "cell_type": "markdown",
   "metadata": {},
   "source": [
    "### Why a \"total_character_count\" feature?\n",
    "I'm curious if there is at least a weak correlation between overall description length and the price of listings. Perhaps hosts who have longer descriptions are more likely to be full-time hosts, maintain their property better, and provide better accomodations? In contrast, maybe those with little to no descriptions are more likely to be occassional hosts who provide lower quality accomodations? Overall, accomodation quality is subjective and thus, difficult to quantify. There is no numerical \"quality\" metric in these datasets, however the quality of an Airbnb listing should clearly have a strong correlation with its price. Two listings could be identical in location, # bedrooms, # bathrooms, amenities, etc. but their prices could be wildly different if one is more \"quality\" than the other."
   ]
  },
  {
   "cell_type": "code",
   "execution_count": 3,
   "metadata": {},
   "outputs": [],
   "source": [
    "'''\n",
    "creates a new feature that is the total number of listed amenities\n",
    "'''\n",
    "def make_total_amenities_feature(listings: pd.core.frame.DataFrame) -> None:\n",
    "    listings['total_amenities'] = listings.amenities.map(lambda amenities: len(amenities.split(', ')))"
   ]
  },
  {
   "cell_type": "markdown",
   "metadata": {},
   "source": [
    "### Why a \"total_amenities\" feature?\n",
    "The \"total amenities\" feature is just a general proxy-feature. Clearly not all amenities should be weighted equally (e.g. pool > coffee maker). There are so many different types of amenities and it would be impossible to try to determine how valuable each one is. In addition, the entries in this column is a messy list of strings that is full of typos and similar amenities:<br>\n",
    ">- 'j\\\\u00c4son conditioner'\n",
    ">- 'ikea refrigerator'\n",
    ">- 'modern skyn alchemy body soap'\n",
    ">- 'miele refrigerator'\n",
    ">- etc.\n",
    "\n",
    "Maybe I'll have to go back and try to clean up this data. Certain amenities like wifi, kitchen, and pool are likely to strongly affect the price."
   ]
  },
  {
   "cell_type": "code",
   "execution_count": 4,
   "metadata": {},
   "outputs": [],
   "source": [
    "def make_specific_amenity_features(listings: pd.core.frame.DataFrame) -> None:\n",
    "    # parses a string'd list of amenities\n",
    "    def parse_amenity_list(amenity_list: str) -> list:\n",
    "        return [amenity[1:-1] for amenity in amenity_list[1:-1].lower().split(\", \")]\n",
    "\n",
    "    # gets each listings set of amenities\n",
    "    listing_amenities = listings.amenities.map(lambda amenity_list: parse_amenity_list(amenity_list))\n",
    "\n",
    "    new_feature_names = [\"has_pool\", \"has_wifi\", \"has_kitchen\"]\n",
    "    for feature_name in new_feature_names:\n",
    "        feature = feature_name[4:]\n",
    "        listings[feature_name] = listing_amenities.map(lambda amenity_list: feature in amenity_list)"
   ]
  },
  {
   "cell_type": "markdown",
   "metadata": {},
   "source": [
    "### Why a \"make_specific_amenity_features\" function?\n",
    "This function creates 1 new feature for each amenity in a certain list of amenities. Each entry is True if that listing has that amenity and is False if otherwise."
   ]
  },
  {
   "cell_type": "code",
   "execution_count": 5,
   "metadata": {},
   "outputs": [
    {
     "data": {
      "text/plain": [
       "nan"
      ]
     },
     "execution_count": 5,
     "metadata": {},
     "output_type": "execute_result"
    }
   ],
   "source": [
    "np.nan + 0"
   ]
  },
  {
   "cell_type": "code",
   "execution_count": null,
   "metadata": {},
   "outputs": [],
   "source": []
  }
 ],
 "metadata": {
  "kernelspec": {
   "display_name": "Python 3",
   "language": "python",
   "name": "python3"
  },
  "language_info": {
   "codemirror_mode": {
    "name": "ipython",
    "version": 3
   },
   "file_extension": ".py",
   "mimetype": "text/x-python",
   "name": "python",
   "nbconvert_exporter": "python",
   "pygments_lexer": "ipython3",
   "version": "3.8.7"
  }
 },
 "nbformat": 4,
 "nbformat_minor": 4
}
