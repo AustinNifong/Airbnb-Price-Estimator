{
 "cells": [
  {
   "cell_type": "code",
   "execution_count": 1,
   "metadata": {},
   "outputs": [],
   "source": [
    "import numpy as np\n",
    "import pandas as pd\n",
    "import sklearn\n",
    "from sklearn.pipeline import Pipeline\n",
    "from sklearn.model_selection import train_test_split, cross_val_score, GridSearchCV\n",
    "from sklearn.impute import SimpleImputer, KNNImputer\n",
    "from sklearn.compose import ColumnTransformer\n",
    "from sklearn.preprocessing import OneHotEncoder, OrdinalEncoder, MinMaxScaler\n"
   ]
  },
  {
   "cell_type": "code",
   "execution_count": 2,
   "metadata": {},
   "outputs": [],
   "source": [
    "def make_regressor_pipeline(regressor) -> sklearn.pipeline.Pipeline:\n",
    "    columns = ['host_is_superhost', 'latitude', 'longitude', 'property_type',\n",
    "       'room_type', 'accommodates', 'bathrooms', 'bedrooms', 'beds',\n",
    "       'number_of_reviews', 'review_scores_rating', 'total_amenities',\n",
    "       'has_pool', 'has_wifi', 'has_kitchen']\n",
    "    \n",
    "    impute_median_cols = [\n",
    "        'bathrooms',\n",
    "        'bedrooms',\n",
    "        'beds']\n",
    "    encode_ordinal_cols = [\n",
    "        'property_type']\n",
    "    encode_onehot_cols = [\n",
    "        'room_type']\n",
    "    impute_mean_scalar_cols = [\n",
    "        'number_of_reviews',\n",
    "        'review_scores_rating',\n",
    "        'total_amenities'\n",
    "        #'total_description_chars'\n",
    "    ]\n",
    "    \n",
    "    unmodified_cols = out = [col for col in columns if col not in impute_median_cols + encode_ordinal_cols + encode_onehot_cols + impute_mean_scalar_cols]\n",
    "    \n",
    "    \n",
    "    mean_imputer = SimpleImputer(strategy='mean')\n",
    "    median_imputer = SimpleImputer(strategy = 'median')\n",
    "    ordinal_encoder = OrdinalEncoder(handle_unknown = 'use_encoded_value', unknown_value = -1)\n",
    "    onehot_encoder = OneHotEncoder(handle_unknown = 'ignore')\n",
    "    scaler = MinMaxScaler(feature_range = (0,1), copy = False, clip = True)\n",
    "    \n",
    "    impute_median_pipe = Pipeline(steps = [('median_imputer', median_imputer)])\n",
    "    encode_ordinal_pipe = Pipeline(steps = [('ordinal_encoder', ordinal_encoder)])\n",
    "    encode_onehot_pipe = Pipeline(steps = [('onehot_encoder', onehot_encoder)])\n",
    "    impute_mean_scalar_pipe = Pipeline(steps = [\n",
    "        ('mean_imputer', mean_imputer),\n",
    "        ('scaler', scaler)\n",
    "    ])\n",
    "    unmodified_pipe = Pipeline(steps = [('impute_median_pipe', impute_median_pipe)])\n",
    "    \n",
    "    \n",
    "    preprocessor = ColumnTransformer(transformers = [\n",
    "        ('impute_median_pipe', impute_median_pipe, impute_median_cols),\n",
    "        ('encode_ordinal_pipe', encode_ordinal_pipe, encode_ordinal_cols),\n",
    "        ('encode_onehot_pipe', encode_onehot_pipe, encode_onehot_cols),\n",
    "        ('impute_mean_scalar_pipe', impute_mean_scalar_pipe, impute_mean_scalar_cols),\n",
    "        ('unmodified_pipe', unmodified_pipe, unmodified_cols)\n",
    "    ])\n",
    "        \n",
    "    return Pipeline(steps = [\n",
    "        ('preprocessor', preprocessor),\n",
    "        ('regressor', regressor)\n",
    "    ])\n",
    "    "
   ]
  }
 ],
 "metadata": {
  "kernelspec": {
   "display_name": "Python 3",
   "language": "python",
   "name": "python3"
  },
  "language_info": {
   "codemirror_mode": {
    "name": "ipython",
    "version": 3
   },
   "file_extension": ".py",
   "mimetype": "text/x-python",
   "name": "python",
   "nbconvert_exporter": "python",
   "pygments_lexer": "ipython3",
   "version": "3.8.7"
  }
 },
 "nbformat": 4,
 "nbformat_minor": 4
}
